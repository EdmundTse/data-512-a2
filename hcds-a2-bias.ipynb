{
 "cells": [
  {
   "cell_type": "markdown",
   "metadata": {},
   "source": [
    "# DATA512 A2: Bias in data\n",
    "\n",
    "Wikipedia is a free and openly editable online encyclopedia. Despite its nature of open collaboration, [critics note](https://en.wikipedia.org/wiki/Criticism_of_Wikipedia) that there is bias in its coverage. In this notebook, we examine bias in English Wikipedia's coverage of politicians and the quality of these articles.\n",
    "\n",
    "## Data sources\n",
    "For Wikipedia data about politicians, we use data processed by Os Keyes from [Politicians by Country from the English-language Wikipedia](https://figshare.com/articles/Untitled_Item/5513449), which is available as a Fileset on figshare under the CC-BY-SA 4.0 license. The file named `page_data.csv` was extracted from the Fileset and saved to the `data_raw` folder.\n",
    "\n",
    "Format: {page, country, rev_id}\n",
    "\n",
    "Population data is from the 2018 World Population Data Sheet Population Reference Bureau's [World Population Data Sheet](http://www.worldpopdata.org/table), using the \"Population mid-2018 (millions)\" indicator with geography filter set to regions Africa, Asia, Europe, Latin America And The Carribean, Northern America and Oceania, plus all countries selected. Instead of using the PRB website directly, we used cached copy of WPDS 2018 CSV file hosted at [this Dropbox location](https://www.dropbox.com/s/5u7sy1xt7g0oi2c/WPDS_2018_data.csv?dl=0), which we saved to the `data_raw` folder. The license for this dataset is unknown.\n",
    "\n",
    "Format: {geography, population in millions}\n",
    "\n",
    "To measure quality, we will use Wikimedia's web service called [Objective Revision Evaluation Service (ORES)](https://ores.wikimedia.org/) to make predictions about articles' quality rating according to the English Wikipedia 1.0 (wp10) assessment scale."
   ]
  },
  {
   "cell_type": "markdown",
   "metadata": {},
   "source": [
    "## Data acquisition"
   ]
  },
  {
   "cell_type": "code",
   "execution_count": 1,
   "metadata": {},
   "outputs": [],
   "source": [
    "import os, errno\n",
    "import json\n",
    "import requests\n",
    "\n",
    "def create_folder(path):\n",
    "    \"\"\"Creates a folder if it doesn't already exist.\"\"\"\n",
    "    created = False\n",
    "    \n",
    "    try:\n",
    "        os.makedirs(path)\n",
    "        created = True\n",
    "    except OSError as e:\n",
    "        if e.errno != errno.EEXIST:\n",
    "            raise\n",
    "            \n",
    "    return created\n",
    "\n",
    "HEADERS = {\n",
    "    'Api-User-Agent': 'https://github.com/EdmundTse/data-512-a2'\n",
    "}\n",
    "\n",
    "def get_ores_data(revision_ids):\n",
    "    \"\"\"Uses ORES API to get wp10 quality scores for the given revision IDs.\"\"\"\n",
    "    \n",
    "    ores_endpoint = 'https://ores.wikimedia.org/v3/scores/{project}/?models={model}&revids={revids}'\n",
    "    revids = '|'.join(str(x) for x in revision_ids)\n",
    "    params = {\n",
    "        'project': 'enwiki',\n",
    "        'model': 'wp10',\n",
    "        'revids': revids\n",
    "    }\n",
    "    \n",
    "    api_call = requests.get(ores_endpoint.format(**params), headers=HEADERS)\n",
    "    \n",
    "    response = api_call.json()\n",
    "    return response"
   ]
  },
  {
   "cell_type": "markdown",
   "metadata": {},
   "source": [
    "First, load the Wikipedia data to find the revision IDs we need to request quality scores for. The CSV file has a header row and has the following columns:\n",
    "\n",
    "| Column Name | Description                 | Format  |\n",
    "|-------------|-----------------------------|---------|\n",
    "| page        | Wikipedia page name         | text    |\n",
    "| country     | Country name                | text    |\n",
    "| rev_id      | Wikipedia page revision ID  | integer |"
   ]
  },
  {
   "cell_type": "code",
   "execution_count": 2,
   "metadata": {},
   "outputs": [],
   "source": [
    "import csv\n",
    "\n",
    "RAW_DATA_DIR = 'data_raw'\n",
    "page_data_path = os.path.join(RAW_DATA_DIR, 'page_data.csv')\n",
    "\n",
    "with open(page_data_path, encoding='utf-8') as page_data_file:\n",
    "    reader = csv.reader(page_data_file)\n",
    "    \n",
    "    # Skip the header row\n",
    "    next(reader)\n",
    "    \n",
    "    page_data = [row for row in reader]"
   ]
  },
  {
   "cell_type": "markdown",
   "metadata": {},
   "source": [
    "Next, batch the revision IDs, as recommended by the API usage guidelines, to retrieve quality scores using ORES. If the saved responses already exist, use that instead."
   ]
  },
  {
   "cell_type": "code",
   "execution_count": 3,
   "metadata": {},
   "outputs": [],
   "source": [
    "# If present, load the saved API responses from file.\n",
    "ORES_FILENAME = 'ores_responses.json'\n",
    "path = os.path.join(RAW_DATA_DIR, ORES_FILENAME)\n",
    "\n",
    "try:\n",
    "    with open(path) as f:\n",
    "        results = json.load(f)\n",
    "except FileNotFoundError:\n",
    "    results = []"
   ]
  },
  {
   "cell_type": "raw",
   "metadata": {},
   "source": [
    "%%time\n",
    "\n",
    "# This variant makes sequential API calls to ORES\n",
    "\n",
    "if not results:\n",
    "    rev_ids_batch = []\n",
    "    MAX_BATCH_SIZE = 50\n",
    "\n",
    "    for page in page_data:\n",
    "        # Add this page revision ID to batch\n",
    "        rev_id = int(page[2])\n",
    "        rev_ids_batch.append(rev_id)\n",
    "\n",
    "        # If the batch is filled, then start a new request for this batch\n",
    "        if len(rev_ids_batch) == MAX_BATCH_SIZE:\n",
    "            response = get_ores_data(rev_ids_batch)\n",
    "            results.append(response)\n",
    "\n",
    "            # Start a new batch\n",
    "            rev_ids_batch = []\n",
    "\n",
    "    # Flush any remaining revision IDs that don't fill the batch\n",
    "    if rev_ids_batch:\n",
    "        response = get_ores_data(rev_ids_batch)\n",
    "        results.append(response)"
   ]
  },
  {
   "cell_type": "code",
   "execution_count": 4,
   "metadata": {},
   "outputs": [
    {
     "name": "stdout",
     "output_type": "stream",
     "text": [
      "Wall time: 1min 29s\n"
     ]
    }
   ],
   "source": [
    "%%time\n",
    "\n",
    "# This variant uses 4 workers to make parallel requests to ORES for faster completion\n",
    "\n",
    "import threading, queue\n",
    "\n",
    "if not results:\n",
    "    NUM_THREADS = 4\n",
    "    MAX_BATCH_SIZE = 50\n",
    "\n",
    "    def ores_worker():\n",
    "        \"\"\"Worker thread takes a batchs of rev_ids and makes requests to ORES.\"\"\"\n",
    "        while True:\n",
    "            item = q.get()\n",
    "            if item is None:\n",
    "                break\n",
    "\n",
    "            serial_num, rev_ids = item\n",
    "            response = get_ores_data(rev_ids)\n",
    "            results.append((serial_num, response))\n",
    "            q.task_done()\n",
    "\n",
    "    # Start the ORES worker threads\n",
    "    q = queue.Queue()\n",
    "    threads = []\n",
    "    for i in range(NUM_THREADS):\n",
    "        t = threading.Thread(target=ores_worker)\n",
    "        t.start()\n",
    "        threads.append(t)\n",
    "\n",
    "    # Batch and queue revision IDs for ORES requests\n",
    "    serial_num = 0\n",
    "    rev_ids_batch = []\n",
    "    for page in page_data:\n",
    "        # Add this page revision ID to batch\n",
    "        rev_id = int(page[2])\n",
    "        rev_ids_batch.append(rev_id)\n",
    "\n",
    "        # When the batch is filled, enqueue a new request\n",
    "        if len(rev_ids_batch) == MAX_BATCH_SIZE:\n",
    "            serial_num += 1\n",
    "            q.put((serial_num, rev_ids_batch))\n",
    "            rev_ids_batch = []\n",
    "\n",
    "    # Flush any remaining revision IDs that didnt't fill a batch\n",
    "    if rev_ids_batch:\n",
    "        serial_num += 1\n",
    "        q.put((serial_num, rev_ids_batch))\n",
    "\n",
    "    # Wait for queue, workers and their threads to complete\n",
    "    q.join()\n",
    "    for i in range(NUM_THREADS):\n",
    "        q.put(None)\n",
    "    for t in threads:\n",
    "        t.join()\n",
    "\n",
    "    # Put the responses back into the original order, then discard the order index\n",
    "    results.sort()\n",
    "    results = [x[1] for x in results]"
   ]
  },
  {
   "cell_type": "markdown",
   "metadata": {},
   "source": [
    "Save the raw ORES API responses to files."
   ]
  },
  {
   "cell_type": "code",
   "execution_count": 5,
   "metadata": {},
   "outputs": [],
   "source": [
    "# Output all of the API responses into one file\n",
    "path = os.path.join(RAW_DATA_DIR, ORES_FILENAME)\n",
    "\n",
    "with open(path, 'w') as f:\n",
    "    json.dump(results, f)"
   ]
  },
  {
   "cell_type": "markdown",
   "metadata": {},
   "source": [
    "## Data processing\n",
    "\n",
    "First, process the ORES API responses to extract the results. Revision IDs that did not produce a quality score, possibly due to the revision being deleted, will be recorded with a null value."
   ]
  },
  {
   "cell_type": "code",
   "execution_count": 6,
   "metadata": {},
   "outputs": [],
   "source": [
    "ores = []\n",
    "\n",
    "for response in results:\n",
    "    scores = response['enwiki']['scores']\n",
    "    for rev_id, result in scores.items():\n",
    "        prediction = None\n",
    "        try:\n",
    "            prediction = result['wp10']['score']['prediction']\n",
    "        except KeyError:\n",
    "            pass\n",
    "        ores.append((rev_id, prediction))"
   ]
  },
  {
   "cell_type": "markdown",
   "metadata": {},
   "source": [
    "Load the population data from the CSV file. This is a quoted CSV with a header row with these columns:\n",
    "\n",
    "| Column Name | Description                         | Format  |\n",
    "|-------------|-------------------------------------|---------|\n",
    "| Geography   | Continent or country name           | text    |\n",
    "| Population  | Population in mid-2018, in millions | decimal |"
   ]
  },
  {
   "cell_type": "code",
   "execution_count": 7,
   "metadata": {},
   "outputs": [],
   "source": [
    "pop_data_path = os.path.join(RAW_DATA_DIR, 'WPDS_2018_data.csv')\n",
    "pop_data = []\n",
    "\n",
    "with open(pop_data_path, encoding='utf-8') as pop_data_file:\n",
    "    reader = csv.reader(pop_data_file)\n",
    "    \n",
    "    # Skip the header row\n",
    "    next(reader)\n",
    "    \n",
    "    for row in reader:\n",
    "        geo = row[0]\n",
    "        # Parse decimal value formatted with comma separator\n",
    "        population = float(row[1].replace(',', ''))\n",
    "        pop_data.append((geo, population))"
   ]
  },
  {
   "cell_type": "markdown",
   "metadata": {},
   "source": [
    "Combine the the data sources into one table."
   ]
  },
  {
   "cell_type": "code",
   "execution_count": 8,
   "metadata": {},
   "outputs": [
    {
     "data": {
      "text/html": [
       "<div>\n",
       "<style scoped>\n",
       "    .dataframe tbody tr th:only-of-type {\n",
       "        vertical-align: middle;\n",
       "    }\n",
       "\n",
       "    .dataframe tbody tr th {\n",
       "        vertical-align: top;\n",
       "    }\n",
       "\n",
       "    .dataframe thead th {\n",
       "        text-align: right;\n",
       "    }\n",
       "</style>\n",
       "<table border=\"1\" class=\"dataframe\">\n",
       "  <thead>\n",
       "    <tr style=\"text-align: right;\">\n",
       "      <th></th>\n",
       "      <th>article_name</th>\n",
       "      <th>country</th>\n",
       "      <th>revision_id</th>\n",
       "    </tr>\n",
       "  </thead>\n",
       "  <tbody>\n",
       "    <tr>\n",
       "      <th>count</th>\n",
       "      <td>47197</td>\n",
       "      <td>47197</td>\n",
       "      <td>47197</td>\n",
       "    </tr>\n",
       "    <tr>\n",
       "      <th>unique</th>\n",
       "      <td>47197</td>\n",
       "      <td>219</td>\n",
       "      <td>47197</td>\n",
       "    </tr>\n",
       "    <tr>\n",
       "      <th>top</th>\n",
       "      <td>Matilda Amissah-Arthur</td>\n",
       "      <td>France</td>\n",
       "      <td>801221770</td>\n",
       "    </tr>\n",
       "    <tr>\n",
       "      <th>freq</th>\n",
       "      <td>1</td>\n",
       "      <td>1689</td>\n",
       "      <td>1</td>\n",
       "    </tr>\n",
       "  </tbody>\n",
       "</table>\n",
       "</div>"
      ],
      "text/plain": [
       "                  article_name country revision_id\n",
       "count                    47197   47197       47197\n",
       "unique                   47197     219       47197\n",
       "top     Matilda Amissah-Arthur  France   801221770\n",
       "freq                         1    1689           1"
      ]
     },
     "execution_count": 8,
     "metadata": {},
     "output_type": "execute_result"
    }
   ],
   "source": [
    "import pandas as pd\n",
    "\n",
    "df_page = pd.DataFrame(page_data, columns=['article_name', 'country', 'revision_id'])\n",
    "df_page.describe()"
   ]
  },
  {
   "cell_type": "code",
   "execution_count": 9,
   "metadata": {},
   "outputs": [
    {
     "data": {
      "text/html": [
       "<div>\n",
       "<style scoped>\n",
       "    .dataframe tbody tr th:only-of-type {\n",
       "        vertical-align: middle;\n",
       "    }\n",
       "\n",
       "    .dataframe tbody tr th {\n",
       "        vertical-align: top;\n",
       "    }\n",
       "\n",
       "    .dataframe thead th {\n",
       "        text-align: right;\n",
       "    }\n",
       "</style>\n",
       "<table border=\"1\" class=\"dataframe\">\n",
       "  <thead>\n",
       "    <tr style=\"text-align: right;\">\n",
       "      <th></th>\n",
       "      <th>revision_id</th>\n",
       "      <th>article_quality</th>\n",
       "    </tr>\n",
       "  </thead>\n",
       "  <tbody>\n",
       "    <tr>\n",
       "      <th>count</th>\n",
       "      <td>47197</td>\n",
       "      <td>47092</td>\n",
       "    </tr>\n",
       "    <tr>\n",
       "      <th>unique</th>\n",
       "      <td>47197</td>\n",
       "      <td>6</td>\n",
       "    </tr>\n",
       "    <tr>\n",
       "      <th>top</th>\n",
       "      <td>801221770</td>\n",
       "      <td>Stub</td>\n",
       "    </tr>\n",
       "    <tr>\n",
       "      <th>freq</th>\n",
       "      <td>1</td>\n",
       "      <td>24633</td>\n",
       "    </tr>\n",
       "  </tbody>\n",
       "</table>\n",
       "</div>"
      ],
      "text/plain": [
       "       revision_id article_quality\n",
       "count        47197           47092\n",
       "unique       47197               6\n",
       "top      801221770            Stub\n",
       "freq             1           24633"
      ]
     },
     "execution_count": 9,
     "metadata": {},
     "output_type": "execute_result"
    }
   ],
   "source": [
    "df_ores = pd.DataFrame(ores, columns=['revision_id', 'article_quality'])\n",
    "df_ores.describe()"
   ]
  },
  {
   "cell_type": "code",
   "execution_count": 10,
   "metadata": {},
   "outputs": [
    {
     "data": {
      "text/plain": [
       "(207, 2)"
      ]
     },
     "execution_count": 10,
     "metadata": {},
     "output_type": "execute_result"
    }
   ],
   "source": [
    "df_pop = pd.DataFrame(pop_data, columns=['country', 'population'])\n",
    "df_pop.shape"
   ]
  },
  {
   "cell_type": "markdown",
   "metadata": {},
   "source": [
    "Finally, combine the Wikipedia page data, world population data and article quality data from ORES into one table. When merging page data with article quality data, we introduced several None values for those articles that we were unable to get a score, which we then proceed to exclude from the dataset. On the second merge with population data, we used the inner join operation to drop rows where there is not a match for the 'country' values."
   ]
  },
  {
   "cell_type": "code",
   "execution_count": 11,
   "metadata": {},
   "outputs": [
    {
     "data": {
      "text/html": [
       "<div>\n",
       "<style scoped>\n",
       "    .dataframe tbody tr th:only-of-type {\n",
       "        vertical-align: middle;\n",
       "    }\n",
       "\n",
       "    .dataframe tbody tr th {\n",
       "        vertical-align: top;\n",
       "    }\n",
       "\n",
       "    .dataframe thead th {\n",
       "        text-align: right;\n",
       "    }\n",
       "</style>\n",
       "<table border=\"1\" class=\"dataframe\">\n",
       "  <thead>\n",
       "    <tr style=\"text-align: right;\">\n",
       "      <th></th>\n",
       "      <th>article_name</th>\n",
       "      <th>country</th>\n",
       "      <th>revision_id</th>\n",
       "      <th>article_quality</th>\n",
       "      <th>population</th>\n",
       "    </tr>\n",
       "  </thead>\n",
       "  <tbody>\n",
       "    <tr>\n",
       "      <th>count</th>\n",
       "      <td>44973</td>\n",
       "      <td>44973</td>\n",
       "      <td>44973</td>\n",
       "      <td>44973</td>\n",
       "      <td>44973.000000</td>\n",
       "    </tr>\n",
       "    <tr>\n",
       "      <th>unique</th>\n",
       "      <td>44973</td>\n",
       "      <td>180</td>\n",
       "      <td>44973</td>\n",
       "      <td>6</td>\n",
       "      <td>NaN</td>\n",
       "    </tr>\n",
       "    <tr>\n",
       "      <th>top</th>\n",
       "      <td>Hou Kok Chung</td>\n",
       "      <td>France</td>\n",
       "      <td>801221770</td>\n",
       "      <td>Stub</td>\n",
       "      <td>NaN</td>\n",
       "    </tr>\n",
       "    <tr>\n",
       "      <th>freq</th>\n",
       "      <td>1</td>\n",
       "      <td>1689</td>\n",
       "      <td>1</td>\n",
       "      <td>23597</td>\n",
       "      <td>NaN</td>\n",
       "    </tr>\n",
       "    <tr>\n",
       "      <th>mean</th>\n",
       "      <td>NaN</td>\n",
       "      <td>NaN</td>\n",
       "      <td>NaN</td>\n",
       "      <td>NaN</td>\n",
       "      <td>116.660071</td>\n",
       "    </tr>\n",
       "  </tbody>\n",
       "</table>\n",
       "</div>"
      ],
      "text/plain": [
       "         article_name country revision_id article_quality    population\n",
       "count           44973   44973       44973           44973  44973.000000\n",
       "unique          44973     180       44973               6           NaN\n",
       "top     Hou Kok Chung  France   801221770            Stub           NaN\n",
       "freq                1    1689           1           23597           NaN\n",
       "mean              NaN     NaN         NaN             NaN    116.660071"
      ]
     },
     "execution_count": 11,
     "metadata": {},
     "output_type": "execute_result"
    }
   ],
   "source": [
    "df = df_page.merge(df_ores).merge(df_pop).dropna(subset=['article_quality'])\n",
    "df.describe(include='all').head()"
   ]
  },
  {
   "cell_type": "markdown",
   "metadata": {},
   "source": [
    "Output the cleaned data to a CSV in the required format."
   ]
  },
  {
   "cell_type": "code",
   "execution_count": 12,
   "metadata": {},
   "outputs": [],
   "source": [
    "CLEAN_DATA_DIR = 'data_clean'\n",
    "CLEANED_FILENAME = 'combined.csv'\n",
    "\n",
    "create_folder(CLEAN_DATA_DIR)\n",
    "\n",
    "# Output the cleaned data in the required format\n",
    "cleaned_filepath = os.path.join(CLEAN_DATA_DIR, CLEANED_FILENAME)\n",
    "\n",
    "OUTPUT_COLUMNS = [\n",
    "    'country',\n",
    "    'article_name',\n",
    "    'revision_id',\n",
    "    'article_quality',\n",
    "    'population'\n",
    "]\n",
    "\n",
    "df.to_csv(cleaned_filepath, columns=OUTPUT_COLUMNS, index=False)"
   ]
  },
  {
   "cell_type": "code",
   "execution_count": 13,
   "metadata": {},
   "outputs": [
    {
     "data": {
      "text/html": [
       "<div>\n",
       "<style scoped>\n",
       "    .dataframe tbody tr th:only-of-type {\n",
       "        vertical-align: middle;\n",
       "    }\n",
       "\n",
       "    .dataframe tbody tr th {\n",
       "        vertical-align: top;\n",
       "    }\n",
       "\n",
       "    .dataframe thead th {\n",
       "        text-align: right;\n",
       "    }\n",
       "</style>\n",
       "<table border=\"1\" class=\"dataframe\">\n",
       "  <thead>\n",
       "    <tr style=\"text-align: right;\">\n",
       "      <th></th>\n",
       "      <th>article_name</th>\n",
       "      <th>country</th>\n",
       "      <th>revision_id</th>\n",
       "      <th>article_quality</th>\n",
       "      <th>population</th>\n",
       "    </tr>\n",
       "  </thead>\n",
       "  <tbody>\n",
       "    <tr>\n",
       "      <th>1</th>\n",
       "      <td>Gladys Lundwe</td>\n",
       "      <td>Zambia</td>\n",
       "      <td>757566606</td>\n",
       "      <td>Stub</td>\n",
       "      <td>17.7</td>\n",
       "    </tr>\n",
       "    <tr>\n",
       "      <th>2</th>\n",
       "      <td>Mwamba Luchembe</td>\n",
       "      <td>Zambia</td>\n",
       "      <td>764848643</td>\n",
       "      <td>Stub</td>\n",
       "      <td>17.7</td>\n",
       "    </tr>\n",
       "    <tr>\n",
       "      <th>3</th>\n",
       "      <td>Thandiwe Banda</td>\n",
       "      <td>Zambia</td>\n",
       "      <td>768166426</td>\n",
       "      <td>Start</td>\n",
       "      <td>17.7</td>\n",
       "    </tr>\n",
       "    <tr>\n",
       "      <th>4</th>\n",
       "      <td>Sylvester Chisembele</td>\n",
       "      <td>Zambia</td>\n",
       "      <td>776082926</td>\n",
       "      <td>C</td>\n",
       "      <td>17.7</td>\n",
       "    </tr>\n",
       "    <tr>\n",
       "      <th>5</th>\n",
       "      <td>Victoria Kalima</td>\n",
       "      <td>Zambia</td>\n",
       "      <td>776530837</td>\n",
       "      <td>Start</td>\n",
       "      <td>17.7</td>\n",
       "    </tr>\n",
       "  </tbody>\n",
       "</table>\n",
       "</div>"
      ],
      "text/plain": [
       "           article_name country revision_id article_quality  population\n",
       "1         Gladys Lundwe  Zambia   757566606            Stub        17.7\n",
       "2       Mwamba Luchembe  Zambia   764848643            Stub        17.7\n",
       "3        Thandiwe Banda  Zambia   768166426           Start        17.7\n",
       "4  Sylvester Chisembele  Zambia   776082926               C        17.7\n",
       "5       Victoria Kalima  Zambia   776530837           Start        17.7"
      ]
     },
     "execution_count": 13,
     "metadata": {},
     "output_type": "execute_result"
    }
   ],
   "source": [
    "df.head()"
   ]
  },
  {
   "cell_type": "markdown",
   "metadata": {},
   "source": [
    "There are articles included in the dataset that are purely templates without content. These articles have names starting with \"Template:\". Should we filter these out, since they are not intended to be articles that contain content? We will leave these in place for now as it is an article for that country albeit not about any one politician, though it might be worthwhile revisiting this decision in the future."
   ]
  },
  {
   "cell_type": "markdown",
   "metadata": {},
   "source": [
    "## Analysis\n",
    "We examine these Wikipedia articles for bias, by looking at:\n",
    "* The proportion of articles-per-population and high-quality articles for each country. We define high-quality as having received an ORES prediction of either \"feature article\" (FA) or \"good article\" (GA).\n",
    "* The number of politician articles per capita for each country."
   ]
  },
  {
   "cell_type": "code",
   "execution_count": 14,
   "metadata": {},
   "outputs": [
    {
     "data": {
      "text/plain": [
       "(219, 2)"
      ]
     },
     "execution_count": 14,
     "metadata": {},
     "output_type": "execute_result"
    }
   ],
   "source": [
    "articles_by_country = df_page.groupby('country').size().rename('articles').reset_index()\n",
    "articles_by_country.shape"
   ]
  },
  {
   "cell_type": "code",
   "execution_count": 15,
   "metadata": {},
   "outputs": [
    {
     "data": {
      "text/plain": [
       "(180, 2)"
      ]
     },
     "execution_count": 15,
     "metadata": {},
     "output_type": "execute_result"
    }
   ],
   "source": [
    "df_country = df_pop.merge(articles_by_country).set_index('country')\n",
    "df_country.shape"
   ]
  },
  {
   "cell_type": "markdown",
   "metadata": {},
   "source": [
    "Let's examine the result of this join operation. First, there were 219 countries represented from the Wikipedia page data. From the WPDS data, there were 207 geographies represented, which had 6 regions and 201 countries. After the inner join operation, only 180 countries names common to both data sets remain.\n",
    "\n",
    "In this notebook, we will not be examining which countries were unable to be joined; although that could be an interesting exercise for future work.\n",
    "\n",
    "Now, we tabulate the number of articles per capita and show the countries with the highest and lowest rates:"
   ]
  },
  {
   "cell_type": "code",
   "execution_count": 16,
   "metadata": {},
   "outputs": [],
   "source": [
    "RESULTS_DIR = 'results'\n",
    "_ = create_folder(RESULTS_DIR)"
   ]
  },
  {
   "cell_type": "markdown",
   "metadata": {},
   "source": [
    "### The 10 highest-ranked countries by number of politician articles relative to population"
   ]
  },
  {
   "cell_type": "code",
   "execution_count": 17,
   "metadata": {},
   "outputs": [
    {
     "data": {
      "text/html": [
       "<div>\n",
       "<style scoped>\n",
       "    .dataframe tbody tr th:only-of-type {\n",
       "        vertical-align: middle;\n",
       "    }\n",
       "\n",
       "    .dataframe tbody tr th {\n",
       "        vertical-align: top;\n",
       "    }\n",
       "\n",
       "    .dataframe thead th {\n",
       "        text-align: right;\n",
       "    }\n",
       "</style>\n",
       "<table border=\"1\" class=\"dataframe\">\n",
       "  <thead>\n",
       "    <tr style=\"text-align: right;\">\n",
       "      <th></th>\n",
       "      <th>population</th>\n",
       "      <th>articles</th>\n",
       "      <th>articles_per_million</th>\n",
       "    </tr>\n",
       "    <tr>\n",
       "      <th>country</th>\n",
       "      <th></th>\n",
       "      <th></th>\n",
       "      <th></th>\n",
       "    </tr>\n",
       "  </thead>\n",
       "  <tbody>\n",
       "    <tr>\n",
       "      <th>Tuvalu</th>\n",
       "      <td>0.01</td>\n",
       "      <td>55</td>\n",
       "      <td>5500.000000</td>\n",
       "    </tr>\n",
       "    <tr>\n",
       "      <th>Nauru</th>\n",
       "      <td>0.01</td>\n",
       "      <td>53</td>\n",
       "      <td>5300.000000</td>\n",
       "    </tr>\n",
       "    <tr>\n",
       "      <th>San Marino</th>\n",
       "      <td>0.03</td>\n",
       "      <td>82</td>\n",
       "      <td>2733.333333</td>\n",
       "    </tr>\n",
       "    <tr>\n",
       "      <th>Monaco</th>\n",
       "      <td>0.04</td>\n",
       "      <td>40</td>\n",
       "      <td>1000.000000</td>\n",
       "    </tr>\n",
       "    <tr>\n",
       "      <th>Liechtenstein</th>\n",
       "      <td>0.04</td>\n",
       "      <td>29</td>\n",
       "      <td>725.000000</td>\n",
       "    </tr>\n",
       "    <tr>\n",
       "      <th>Tonga</th>\n",
       "      <td>0.10</td>\n",
       "      <td>63</td>\n",
       "      <td>630.000000</td>\n",
       "    </tr>\n",
       "    <tr>\n",
       "      <th>Marshall Islands</th>\n",
       "      <td>0.06</td>\n",
       "      <td>37</td>\n",
       "      <td>616.666667</td>\n",
       "    </tr>\n",
       "    <tr>\n",
       "      <th>Iceland</th>\n",
       "      <td>0.40</td>\n",
       "      <td>206</td>\n",
       "      <td>515.000000</td>\n",
       "    </tr>\n",
       "    <tr>\n",
       "      <th>Andorra</th>\n",
       "      <td>0.08</td>\n",
       "      <td>34</td>\n",
       "      <td>425.000000</td>\n",
       "    </tr>\n",
       "    <tr>\n",
       "      <th>Federated States of Micronesia</th>\n",
       "      <td>0.10</td>\n",
       "      <td>38</td>\n",
       "      <td>380.000000</td>\n",
       "    </tr>\n",
       "  </tbody>\n",
       "</table>\n",
       "</div>"
      ],
      "text/plain": [
       "                                population  articles  articles_per_million\n",
       "country                                                                   \n",
       "Tuvalu                                0.01        55           5500.000000\n",
       "Nauru                                 0.01        53           5300.000000\n",
       "San Marino                            0.03        82           2733.333333\n",
       "Monaco                                0.04        40           1000.000000\n",
       "Liechtenstein                         0.04        29            725.000000\n",
       "Tonga                                 0.10        63            630.000000\n",
       "Marshall Islands                      0.06        37            616.666667\n",
       "Iceland                               0.40       206            515.000000\n",
       "Andorra                               0.08        34            425.000000\n",
       "Federated States of Micronesia        0.10        38            380.000000"
      ]
     },
     "execution_count": 17,
     "metadata": {},
     "output_type": "execute_result"
    }
   ],
   "source": [
    "df_country.loc[:, 'articles_per_million'] = df_country.articles / df_country.population\n",
    "articles_per_million_highest = df_country.sort_values(by='articles_per_million', ascending=False)[:10]\n",
    "\n",
    "# Output table of results\n",
    "path = os.path.join(RESULTS_DIR, 'articles_per_million_highest.csv')\n",
    "articles_per_million_highest.to_csv(path)\n",
    "\n",
    "articles_per_million_highest"
   ]
  },
  {
   "cell_type": "markdown",
   "metadata": {},
   "source": [
    "### The 10 lowest-ranked countries by number of politician articles relative to population"
   ]
  },
  {
   "cell_type": "code",
   "execution_count": 18,
   "metadata": {},
   "outputs": [
    {
     "data": {
      "text/html": [
       "<div>\n",
       "<style scoped>\n",
       "    .dataframe tbody tr th:only-of-type {\n",
       "        vertical-align: middle;\n",
       "    }\n",
       "\n",
       "    .dataframe tbody tr th {\n",
       "        vertical-align: top;\n",
       "    }\n",
       "\n",
       "    .dataframe thead th {\n",
       "        text-align: right;\n",
       "    }\n",
       "</style>\n",
       "<table border=\"1\" class=\"dataframe\">\n",
       "  <thead>\n",
       "    <tr style=\"text-align: right;\">\n",
       "      <th></th>\n",
       "      <th>population</th>\n",
       "      <th>articles</th>\n",
       "      <th>articles_per_million</th>\n",
       "    </tr>\n",
       "    <tr>\n",
       "      <th>country</th>\n",
       "      <th></th>\n",
       "      <th></th>\n",
       "      <th></th>\n",
       "    </tr>\n",
       "  </thead>\n",
       "  <tbody>\n",
       "    <tr>\n",
       "      <th>India</th>\n",
       "      <td>1371.3</td>\n",
       "      <td>990</td>\n",
       "      <td>0.721943</td>\n",
       "    </tr>\n",
       "    <tr>\n",
       "      <th>Indonesia</th>\n",
       "      <td>265.2</td>\n",
       "      <td>215</td>\n",
       "      <td>0.810709</td>\n",
       "    </tr>\n",
       "    <tr>\n",
       "      <th>China</th>\n",
       "      <td>1393.8</td>\n",
       "      <td>1138</td>\n",
       "      <td>0.816473</td>\n",
       "    </tr>\n",
       "    <tr>\n",
       "      <th>Uzbekistan</th>\n",
       "      <td>32.9</td>\n",
       "      <td>29</td>\n",
       "      <td>0.881459</td>\n",
       "    </tr>\n",
       "    <tr>\n",
       "      <th>Ethiopia</th>\n",
       "      <td>107.5</td>\n",
       "      <td>105</td>\n",
       "      <td>0.976744</td>\n",
       "    </tr>\n",
       "    <tr>\n",
       "      <th>Zambia</th>\n",
       "      <td>17.7</td>\n",
       "      <td>26</td>\n",
       "      <td>1.468927</td>\n",
       "    </tr>\n",
       "    <tr>\n",
       "      <th>Korea, North</th>\n",
       "      <td>25.6</td>\n",
       "      <td>39</td>\n",
       "      <td>1.523438</td>\n",
       "    </tr>\n",
       "    <tr>\n",
       "      <th>Thailand</th>\n",
       "      <td>66.2</td>\n",
       "      <td>112</td>\n",
       "      <td>1.691843</td>\n",
       "    </tr>\n",
       "    <tr>\n",
       "      <th>Bangladesh</th>\n",
       "      <td>166.4</td>\n",
       "      <td>324</td>\n",
       "      <td>1.947115</td>\n",
       "    </tr>\n",
       "    <tr>\n",
       "      <th>Mozambique</th>\n",
       "      <td>30.5</td>\n",
       "      <td>60</td>\n",
       "      <td>1.967213</td>\n",
       "    </tr>\n",
       "  </tbody>\n",
       "</table>\n",
       "</div>"
      ],
      "text/plain": [
       "              population  articles  articles_per_million\n",
       "country                                                 \n",
       "India             1371.3       990              0.721943\n",
       "Indonesia          265.2       215              0.810709\n",
       "China             1393.8      1138              0.816473\n",
       "Uzbekistan          32.9        29              0.881459\n",
       "Ethiopia           107.5       105              0.976744\n",
       "Zambia              17.7        26              1.468927\n",
       "Korea, North        25.6        39              1.523438\n",
       "Thailand            66.2       112              1.691843\n",
       "Bangladesh         166.4       324              1.947115\n",
       "Mozambique          30.5        60              1.967213"
      ]
     },
     "execution_count": 18,
     "metadata": {},
     "output_type": "execute_result"
    }
   ],
   "source": [
    "articles_per_million_lowest = df_country.sort_values(by='articles_per_million', ascending=True)[:10]\n",
    "\n",
    "# Output table of results\n",
    "path = os.path.join(RESULTS_DIR, 'articles_per_million_lowest.csv')\n",
    "articles_per_million_lowest.to_csv(path)\n",
    "\n",
    "articles_per_million_lowest"
   ]
  },
  {
   "cell_type": "markdown",
   "metadata": {},
   "source": [
    "### The 10 highest-ranked countries by proportion of high-quality articles about its politicians"
   ]
  },
  {
   "cell_type": "code",
   "execution_count": 19,
   "metadata": {},
   "outputs": [
    {
     "data": {
      "text/html": [
       "<div>\n",
       "<style scoped>\n",
       "    .dataframe tbody tr th:only-of-type {\n",
       "        vertical-align: middle;\n",
       "    }\n",
       "\n",
       "    .dataframe tbody tr th {\n",
       "        vertical-align: top;\n",
       "    }\n",
       "\n",
       "    .dataframe thead th {\n",
       "        text-align: right;\n",
       "    }\n",
       "</style>\n",
       "<table border=\"1\" class=\"dataframe\">\n",
       "  <thead>\n",
       "    <tr style=\"text-align: right;\">\n",
       "      <th></th>\n",
       "      <th>high_quality</th>\n",
       "    </tr>\n",
       "    <tr>\n",
       "      <th>country</th>\n",
       "      <th></th>\n",
       "    </tr>\n",
       "  </thead>\n",
       "  <tbody>\n",
       "    <tr>\n",
       "      <th>Korea, North</th>\n",
       "      <td>0.179487</td>\n",
       "    </tr>\n",
       "    <tr>\n",
       "      <th>Saudi Arabia</th>\n",
       "      <td>0.134454</td>\n",
       "    </tr>\n",
       "    <tr>\n",
       "      <th>Central African Republic</th>\n",
       "      <td>0.117647</td>\n",
       "    </tr>\n",
       "    <tr>\n",
       "      <th>Romania</th>\n",
       "      <td>0.114943</td>\n",
       "    </tr>\n",
       "    <tr>\n",
       "      <th>Mauritania</th>\n",
       "      <td>0.096154</td>\n",
       "    </tr>\n",
       "    <tr>\n",
       "      <th>Tuvalu</th>\n",
       "      <td>0.090909</td>\n",
       "    </tr>\n",
       "    <tr>\n",
       "      <th>Bhutan</th>\n",
       "      <td>0.090909</td>\n",
       "    </tr>\n",
       "    <tr>\n",
       "      <th>Dominica</th>\n",
       "      <td>0.083333</td>\n",
       "    </tr>\n",
       "    <tr>\n",
       "      <th>United States</th>\n",
       "      <td>0.075092</td>\n",
       "    </tr>\n",
       "    <tr>\n",
       "      <th>Benin</th>\n",
       "      <td>0.074468</td>\n",
       "    </tr>\n",
       "  </tbody>\n",
       "</table>\n",
       "</div>"
      ],
      "text/plain": [
       "                          high_quality\n",
       "country                               \n",
       "Korea, North                  0.179487\n",
       "Saudi Arabia                  0.134454\n",
       "Central African Republic      0.117647\n",
       "Romania                       0.114943\n",
       "Mauritania                    0.096154\n",
       "Tuvalu                        0.090909\n",
       "Bhutan                        0.090909\n",
       "Dominica                      0.083333\n",
       "United States                 0.075092\n",
       "Benin                         0.074468"
      ]
     },
     "execution_count": 19,
     "metadata": {},
     "output_type": "execute_result"
    }
   ],
   "source": [
    "# Tabulate by country the proportion of articles that are high quality\n",
    "df.loc[:, 'high_quality'] = df.dropna(subset=['article_quality']).article_quality.isin(['FA', 'GA'])\n",
    "high_quality_prop = df.groupby('country').high_quality.mean()\n",
    "high_quality_prop_highest = pd.DataFrame(high_quality_prop.sort_values(ascending=False)[:10])\n",
    "\n",
    "# Output table of results\n",
    "path = os.path.join(RESULTS_DIR, 'high_quality_prop_highest.csv')\n",
    "high_quality_prop_highest.to_csv(path)\n",
    "\n",
    "high_quality_prop_highest"
   ]
  },
  {
   "cell_type": "markdown",
   "metadata": {},
   "source": [
    "### The 10 lowest-ranked countries by proportion of high-quality articles about its politicians"
   ]
  },
  {
   "cell_type": "code",
   "execution_count": 20,
   "metadata": {},
   "outputs": [
    {
     "data": {
      "text/html": [
       "<div>\n",
       "<style scoped>\n",
       "    .dataframe tbody tr th:only-of-type {\n",
       "        vertical-align: middle;\n",
       "    }\n",
       "\n",
       "    .dataframe tbody tr th {\n",
       "        vertical-align: top;\n",
       "    }\n",
       "\n",
       "    .dataframe thead th {\n",
       "        text-align: right;\n",
       "    }\n",
       "</style>\n",
       "<table border=\"1\" class=\"dataframe\">\n",
       "  <thead>\n",
       "    <tr style=\"text-align: right;\">\n",
       "      <th></th>\n",
       "      <th>high_quality</th>\n",
       "    </tr>\n",
       "    <tr>\n",
       "      <th>country</th>\n",
       "      <th></th>\n",
       "    </tr>\n",
       "  </thead>\n",
       "  <tbody>\n",
       "    <tr>\n",
       "      <th>Sao Tome and Principe</th>\n",
       "      <td>0.0</td>\n",
       "    </tr>\n",
       "    <tr>\n",
       "      <th>Mozambique</th>\n",
       "      <td>0.0</td>\n",
       "    </tr>\n",
       "    <tr>\n",
       "      <th>Cameroon</th>\n",
       "      <td>0.0</td>\n",
       "    </tr>\n",
       "    <tr>\n",
       "      <th>Guyana</th>\n",
       "      <td>0.0</td>\n",
       "    </tr>\n",
       "    <tr>\n",
       "      <th>Turkmenistan</th>\n",
       "      <td>0.0</td>\n",
       "    </tr>\n",
       "    <tr>\n",
       "      <th>Monaco</th>\n",
       "      <td>0.0</td>\n",
       "    </tr>\n",
       "    <tr>\n",
       "      <th>Moldova</th>\n",
       "      <td>0.0</td>\n",
       "    </tr>\n",
       "    <tr>\n",
       "      <th>Comoros</th>\n",
       "      <td>0.0</td>\n",
       "    </tr>\n",
       "    <tr>\n",
       "      <th>Marshall Islands</th>\n",
       "      <td>0.0</td>\n",
       "    </tr>\n",
       "    <tr>\n",
       "      <th>Costa Rica</th>\n",
       "      <td>0.0</td>\n",
       "    </tr>\n",
       "  </tbody>\n",
       "</table>\n",
       "</div>"
      ],
      "text/plain": [
       "                       high_quality\n",
       "country                            \n",
       "Sao Tome and Principe           0.0\n",
       "Mozambique                      0.0\n",
       "Cameroon                        0.0\n",
       "Guyana                          0.0\n",
       "Turkmenistan                    0.0\n",
       "Monaco                          0.0\n",
       "Moldova                         0.0\n",
       "Comoros                         0.0\n",
       "Marshall Islands                0.0\n",
       "Costa Rica                      0.0"
      ]
     },
     "execution_count": 20,
     "metadata": {},
     "output_type": "execute_result"
    }
   ],
   "source": [
    "high_quality_prop_lowest = pd.DataFrame(high_quality_prop.sort_values(ascending=True)[:10])\n",
    "\n",
    "# Output table of results\n",
    "path = os.path.join(RESULTS_DIR, 'high_quality_prop_lowest.csv')\n",
    "high_quality_prop_lowest.to_csv(path)\n",
    "\n",
    "high_quality_prop_lowest"
   ]
  },
  {
   "cell_type": "markdown",
   "metadata": {},
   "source": [
    "Actually, there are many more countries with zero high quality articles about politicians. Since the order was arbitrary within the same value, it would be better to list all such countries:"
   ]
  },
  {
   "cell_type": "code",
   "execution_count": 21,
   "metadata": {},
   "outputs": [
    {
     "data": {
      "text/plain": [
       "array(['Andorra', 'Angola', 'Antigua and Barbuda', 'Bahamas', 'Barbados',\n",
       "       'Belgium', 'Belize', 'Cameroon', 'Cape Verde', 'Comoros',\n",
       "       'Costa Rica', 'Djibouti', 'Federated States of Micronesia',\n",
       "       'Finland', 'Guyana', 'Kazakhstan', 'Kiribati', 'Lesotho',\n",
       "       'Liechtenstein', 'Macedonia', 'Malta', 'Marshall Islands',\n",
       "       'Moldova', 'Monaco', 'Mozambique', 'Nauru', 'Nepal', 'San Marino',\n",
       "       'Sao Tome and Principe', 'Seychelles', 'Slovakia',\n",
       "       'Solomon Islands', 'Switzerland', 'Tunisia', 'Turkmenistan',\n",
       "       'Uganda', 'Zambia'], dtype=object)"
      ]
     },
     "execution_count": 21,
     "metadata": {},
     "output_type": "execute_result"
    }
   ],
   "source": [
    "high_quality_prop_zero = high_quality_prop[high_quality_prop == 0]\n",
    "\n",
    "# Output table of results\n",
    "path = os.path.join(RESULTS_DIR, 'high_quality_prop_zero.csv')\n",
    "high_quality_prop_zero.to_csv(path)\n",
    "\n",
    "high_quality_prop_zero.index.values"
   ]
  },
  {
   "cell_type": "markdown",
   "metadata": {},
   "source": [
    "## Findings"
   ]
  },
  {
   "cell_type": "markdown",
   "metadata": {},
   "source": [
    "Given this is an exercise looking at English Wikipedia, I expected to find more articles for politicians in English-speaking countries. If the editors tend to be from the same country as the politician, then it would make sense for those articles to be of higher quality.\n",
    "\n",
    "However what was apparent from the analysis is that the highest ranked countries by politician articles per capita tended to be those with the smallest population. At the top are Tuvalu and Nauru, both are countries with populations of about 10,000. One notable exception was Iceland, which has four times the population of the next most populous country in that list yet the number of articles for its politicians were many enough for it to be amonst the highest per capita.\n",
    "\n",
    "At the inverse of the scale, we find that China and India have amongst the fewest politician articles per capita, which perhaps could be due to their huge population.\n",
    "\n",
    "It was surprising to see North Korea being the highest ranked by proportion of high quality politician articles while also having amongst the lowest number of politician articles per capita. Furthermore, the people of North Korea generally does not have access to the internet and Wikipedia so we are left to wonder who are the people who edits North Korean politician articles, and why they would be more motivated than other countries to polish them to a high quality?\n",
    "\n",
    "As expected being an English speaking country, the US is amongst the top 10 countries by proportion of high-quality politican articles. While not in the top 10, the UK was not far behind at rank 12. Nobably absent from the top were other English speaking countries such as Canada and Australia. The only other predominantly English speaking country in the top 10 by proportion of high quality politician articles is Dominica.\n",
    "\n",
    "Finally, we notice that there are many countries over a wide range of population sizes that do not have any politician articles predicted as high quality. From this and other findings above, we can see that English Wikipedia articles do not cover every country's politicians equally well.\n",
    "\n",
    "Other questions of interest could be to see how different the number of editors per politician article is by country, and what proportion of the politician article editors are from the same country as the politican."
   ]
  }
 ],
 "metadata": {
  "kernelspec": {
   "display_name": "Python 3",
   "language": "python",
   "name": "python3"
  },
  "language_info": {
   "codemirror_mode": {
    "name": "ipython",
    "version": 3
   },
   "file_extension": ".py",
   "mimetype": "text/x-python",
   "name": "python",
   "nbconvert_exporter": "python",
   "pygments_lexer": "ipython3",
   "version": "3.6.6"
  }
 },
 "nbformat": 4,
 "nbformat_minor": 2
}
